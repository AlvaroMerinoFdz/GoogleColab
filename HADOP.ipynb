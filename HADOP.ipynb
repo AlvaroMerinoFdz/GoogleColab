{
  "nbformat": 4,
  "nbformat_minor": 0,
  "metadata": {
    "colab": {
      "provenance": [],
      "authorship_tag": "ABX9TyNFRxF23NWu6DrcFL5QwqAZ",
      "include_colab_link": true
    },
    "kernelspec": {
      "name": "python3",
      "display_name": "Python 3"
    },
    "language_info": {
      "name": "python"
    }
  },
  "cells": [
    {
      "cell_type": "markdown",
      "metadata": {
        "id": "view-in-github",
        "colab_type": "text"
      },
      "source": [
        "<a href=\"https://colab.research.google.com/github/AlvaroMerinoFdz/GoogleColab/blob/main/HADOP.ipynb\" target=\"_parent\"><img src=\"https://colab.research.google.com/assets/colab-badge.svg\" alt=\"Open In Colab\"/></a>"
      ]
    },
    {
      "cell_type": "markdown",
      "source": [
        "Descargar el paquete de hadoop"
      ],
      "metadata": {
        "id": "Lp3zF5MSgI13"
      }
    },
    {
      "cell_type": "code",
      "source": [
        "!wget https://dlcdn.apache.org/hadoop/common/hadoop-3.3.4/hadoop-3.3.4.tar.gz"
      ],
      "metadata": {
        "colab": {
          "base_uri": "https://localhost:8080/"
        },
        "id": "FILeJ0aagL1G",
        "outputId": "16461675-d0bb-4d9c-b012-9743c16e39fc"
      },
      "execution_count": 27,
      "outputs": [
        {
          "output_type": "stream",
          "name": "stdout",
          "text": [
            "--2022-12-05 18:25:33--  https://dlcdn.apache.org/hadoop/common/hadoop-3.3.4/hadoop-3.3.4.tar.gz\n",
            "Resolving dlcdn.apache.org (dlcdn.apache.org)... 151.101.2.132, 2a04:4e42::644\n",
            "Connecting to dlcdn.apache.org (dlcdn.apache.org)|151.101.2.132|:443... connected.\n",
            "HTTP request sent, awaiting response... 200 OK\n",
            "Length: 695457782 (663M) [application/x-gzip]\n",
            "Saving to: ‘hadoop-3.3.4.tar.gz’\n",
            "\n",
            "hadoop-3.3.4.tar.gz 100%[===================>] 663.24M   218MB/s    in 3.0s    \n",
            "\n",
            "2022-12-05 18:25:37 (218 MB/s) - ‘hadoop-3.3.4.tar.gz’ saved [695457782/695457782]\n",
            "\n"
          ]
        }
      ]
    },
    {
      "cell_type": "code",
      "source": [
        "!rm hadoop-3.3.4-src.tar.gz"
      ],
      "metadata": {
        "id": "n_HofiUQhWh8"
      },
      "execution_count": 30,
      "outputs": []
    },
    {
      "cell_type": "markdown",
      "source": [
        "Extraer el fichero"
      ],
      "metadata": {
        "id": "JAlqkQdsgghT"
      }
    },
    {
      "cell_type": "code",
      "source": [
        "!tar -xzf hadoop-3.3.4.tar.gz"
      ],
      "metadata": {
        "id": "Vr7K74mZgiME"
      },
      "execution_count": 28,
      "outputs": []
    },
    {
      "cell_type": "code",
      "source": [
        "!ls"
      ],
      "metadata": {
        "colab": {
          "base_uri": "https://localhost:8080/"
        },
        "id": "ZT9YBqPFheHj",
        "outputId": "9b029bbb-dbe0-4699-a0b3-86a6725b67a2"
      },
      "execution_count": 31,
      "outputs": [
        {
          "output_type": "stream",
          "name": "stdout",
          "text": [
            "hadoop-3.3.4  hadoop-3.3.4.tar.gz  sample_data\n"
          ]
        }
      ]
    },
    {
      "cell_type": "markdown",
      "source": [
        "Copiamos a la /usr/local"
      ],
      "metadata": {
        "id": "C8CmwMD8hhBt"
      }
    },
    {
      "cell_type": "code",
      "source": [
        "!cp -r hadoop-3.3.4/ /usr/local/"
      ],
      "metadata": {
        "id": "jDCEdtI0hi_C"
      },
      "execution_count": 32,
      "outputs": []
    },
    {
      "cell_type": "markdown",
      "source": [
        "configuramos java_home"
      ],
      "metadata": {
        "id": "ZzAVGLgoiDqD"
      }
    },
    {
      "cell_type": "code",
      "source": [
        "!readlink -f /usr/bin/java | sed \"s:bin/java::\""
      ],
      "metadata": {
        "colab": {
          "base_uri": "https://localhost:8080/"
        },
        "id": "hKWSdAOOiFb3",
        "outputId": "a998ede5-d452-4dcd-ff28-af602edb69ad"
      },
      "execution_count": 34,
      "outputs": [
        {
          "output_type": "stream",
          "name": "stdout",
          "text": [
            "/usr/lib/jvm/java-11-openjdk-amd64/\n"
          ]
        }
      ]
    },
    {
      "cell_type": "code",
      "source": [
        "import os\n",
        "os.environ[\"JAVA_HOME\"] = \"/usr/lib/jvm/java-11-openjdk-amd64/\"\n",
        "os.environ[\"PATH\"] = os.environ[\"PATH\"]+\":\"+\"/usr/local/hadoop-3.3.4/bin\""
      ],
      "metadata": {
        "id": "XQnZogiLioSe"
      },
      "execution_count": 40,
      "outputs": []
    },
    {
      "cell_type": "markdown",
      "source": [
        "Ejecutamos hadoop"
      ],
      "metadata": {
        "id": "AuMUwcvli9j5"
      }
    },
    {
      "cell_type": "code",
      "source": [
        "!hadoop version"
      ],
      "metadata": {
        "colab": {
          "base_uri": "https://localhost:8080/"
        },
        "id": "i7iedZNLi_ep",
        "outputId": "7b371dd6-8e01-4922-b4cb-b6fa13fe339a"
      },
      "execution_count": 41,
      "outputs": [
        {
          "output_type": "stream",
          "name": "stdout",
          "text": [
            "Hadoop 3.3.4\n",
            "Source code repository https://github.com/apache/hadoop.git -r a585a73c3e02ac62350c136643a5e7f6095a3dbb\n",
            "Compiled by stevel on 2022-07-29T12:32Z\n",
            "Compiled with protoc 3.7.1\n",
            "From source with checksum fb9dd8918a7b8a5b430d61af858f6ec\n",
            "This command was run using /usr/local/hadoop-3.3.4/share/hadoop/common/hadoop-common-3.3.4.jar\n"
          ]
        }
      ]
    },
    {
      "cell_type": "code",
      "source": [
        "!hdfs dfs -ls"
      ],
      "metadata": {
        "colab": {
          "base_uri": "https://localhost:8080/"
        },
        "id": "nYmYxpNcj57Q",
        "outputId": "e28b4e2e-182f-4f92-d792-6fa5214c3cf6"
      },
      "execution_count": 47,
      "outputs": [
        {
          "output_type": "stream",
          "name": "stdout",
          "text": [
            "Found 6 items\n",
            "drwxr-xr-x   - root root       4096 2022-12-02 14:33 .config\n",
            "drwxr-xr-x   - 1024 1024       4096 2022-07-29 13:44 hadoop-3.3.4\n",
            "-rw-r--r--   1 root root  695457782 2022-07-29 18:11 hadoop-3.3.4.tar.gz\n",
            "drwxr-xr-x   - root root       4096 2022-12-05 18:36 prueba\n",
            "drwxr-xr-x   - root root       4096 2022-12-02 14:34 sample_data\n",
            "-rw-r--r--   1 root root         44 2022-12-05 18:35 user.txt\n"
          ]
        }
      ]
    },
    {
      "cell_type": "code",
      "source": [
        "!hdfs dfs -mkdir prueba"
      ],
      "metadata": {
        "id": "sFE5zXj-j-xA"
      },
      "execution_count": 43,
      "outputs": []
    },
    {
      "cell_type": "code",
      "source": [
        "%%bash\n",
        "echo \"Ejemplo de HDFS\" >> user.txt\n",
        "echo `date` >> user.txt\n",
        "cat user.txt"
      ],
      "metadata": {
        "colab": {
          "base_uri": "https://localhost:8080/"
        },
        "id": "IvmNHPYukE_k",
        "outputId": "6911e04b-2998-4225-98d5-dc59ea1c97e3"
      },
      "execution_count": 45,
      "outputs": [
        {
          "output_type": "stream",
          "name": "stdout",
          "text": [
            "Ejemplo de HDFS\n",
            "Mon Dec 5 18:35:00 UTC 2022\n"
          ]
        }
      ]
    },
    {
      "cell_type": "code",
      "source": [
        "!hdfs dfs -put user.txt prueba/"
      ],
      "metadata": {
        "id": "q1-XbTPekkK1"
      },
      "execution_count": 46,
      "outputs": []
    },
    {
      "cell_type": "code",
      "source": [
        "!hdfs dfs -cat prueba/user.txt"
      ],
      "metadata": {
        "colab": {
          "base_uri": "https://localhost:8080/"
        },
        "id": "ydyVrbAQk5Y1",
        "outputId": "a3dee84e-a7e6-4a2e-ccd2-4be59a4ff3fc"
      },
      "execution_count": 48,
      "outputs": [
        {
          "output_type": "stream",
          "name": "stdout",
          "text": [
            "Ejemplo de HDFS\n",
            "Mon Dec 5 18:35:00 UTC 2022\n"
          ]
        }
      ]
    }
  ]
}